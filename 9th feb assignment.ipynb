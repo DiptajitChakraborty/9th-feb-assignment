{
 "cells": [
  {
   "cell_type": "code",
   "execution_count": 23,
   "id": "0cbf8ea9-b0cb-4190-a1d8-f1a38585e934",
   "metadata": {},
   "outputs": [],
   "source": [
    "#Q!\n",
    "class vehicle :\n",
    "    \n",
    "    def __init__(self, name_of_vehicle, max_speed, average_of_vehicle):\n",
    "        self.name_of_vehicle = name_of_vehicle\n",
    "        self.max_speed = max_speed\n",
    "        self.average_of_vehicle = average_of_vehicle\n",
    "        \n",
    "        \n",
    "        "
   ]
  },
  {
   "cell_type": "code",
   "execution_count": 28,
   "id": "93d945ee-26c7-4b1d-96d9-ea39e168564f",
   "metadata": {},
   "outputs": [],
   "source": [
    "#Q2\n",
    "class child_class_car(vehicle):\n",
    "    \n",
    "    def seating_capacity(self, capacity):\n",
    "        self.capacity = capacity\n",
    "    def return_name_capacity(self):\n",
    "        return self.name_of_vehicle, self.capacity"
   ]
  },
  {
   "cell_type": "code",
   "execution_count": 29,
   "id": "e9b02fee-cb81-46a2-b87f-5969a5a57888",
   "metadata": {},
   "outputs": [],
   "source": [
    "car = child_class_car(\"Honda city\",250,11.49)"
   ]
  },
  {
   "cell_type": "code",
   "execution_count": 30,
   "id": "0b4ecfab-3227-4a3f-bcd0-302d79633085",
   "metadata": {},
   "outputs": [],
   "source": [
    "car.seating_capacity(6)"
   ]
  },
  {
   "cell_type": "code",
   "execution_count": 31,
   "id": "890de05d-18bd-461b-9877-d3c5d176610f",
   "metadata": {},
   "outputs": [
    {
     "data": {
      "text/plain": [
       "('Honda city', 6)"
      ]
     },
     "execution_count": 31,
     "metadata": {},
     "output_type": "execute_result"
    }
   ],
   "source": [
    "car.return_name_capacity()"
   ]
  },
  {
   "cell_type": "code",
   "execution_count": 44,
   "id": "fd9de3a0-312a-4807-b668-b6b78e109055",
   "metadata": {},
   "outputs": [],
   "source": [
    "#Q3\n",
    "#Ans:-If a child class inherits from more than one class, i.e. this child class is derived from multiple classes, we call it multiple inheritance in Python.\n",
    "#a python code to demonstrate multiple inheritance\n",
    "class class1 :\n",
    "    def test1(self):\n",
    "        return \"This is class 1\"\n",
    "class class2:\n",
    "    def test2(self):\n",
    "        return \"This is class 2\""
   ]
  },
  {
   "cell_type": "code",
   "execution_count": 45,
   "id": "10bc74fb-3140-47d9-ba41-56c6c60b9043",
   "metadata": {},
   "outputs": [],
   "source": [
    "class class3(class1,class2):\n",
    "    pass"
   ]
  },
  {
   "cell_type": "code",
   "execution_count": 46,
   "id": "46f4f035-f6c8-4db6-9223-09e4569e01fc",
   "metadata": {},
   "outputs": [],
   "source": [
    "c = class3()"
   ]
  },
  {
   "cell_type": "code",
   "execution_count": 47,
   "id": "bbc4e4bf-56e5-4f03-b809-fef0b9d5148d",
   "metadata": {},
   "outputs": [
    {
     "data": {
      "text/plain": [
       "'This is class 1'"
      ]
     },
     "execution_count": 47,
     "metadata": {},
     "output_type": "execute_result"
    }
   ],
   "source": [
    "c.test1()"
   ]
  },
  {
   "cell_type": "code",
   "execution_count": 48,
   "id": "30535663-6dba-4dfc-b8d5-935b7c144289",
   "metadata": {},
   "outputs": [
    {
     "data": {
      "text/plain": [
       "'This is class 2'"
      ]
     },
     "execution_count": 48,
     "metadata": {},
     "output_type": "execute_result"
    }
   ],
   "source": [
    "c.test2()"
   ]
  },
  {
   "cell_type": "code",
   "execution_count": 59,
   "id": "000da24d-bddf-488b-8c21-f1406cbad22b",
   "metadata": {},
   "outputs": [],
   "source": [
    "#Q4\n",
    "#Ans:-\n",
    "#Getter: A method that allows you to access an attribute in a given class.\n",
    "#Setter: A method that allows you to set or mutate the value of an attribute in a class.\n",
    "\n",
    "#example\n",
    "class SampleClass:\n",
    "\n",
    "    def __init__(self, a):\n",
    "        self.__a = a\n",
    "    def get_value(self):\n",
    "        return self.__a\n",
    "    def set_value(self, a):\n",
    "        self.__a = a"
   ]
  },
  {
   "cell_type": "code",
   "execution_count": 61,
   "id": "0ef4fb27-d4d0-489f-bf82-10c5dcd52f6c",
   "metadata": {},
   "outputs": [],
   "source": [
    "m = SampleClass(25)"
   ]
  },
  {
   "cell_type": "code",
   "execution_count": 63,
   "id": "004cbf49-cd3a-43d6-8d88-806ee7940445",
   "metadata": {},
   "outputs": [
    {
     "data": {
      "text/plain": [
       "25"
      ]
     },
     "execution_count": 63,
     "metadata": {},
     "output_type": "execute_result"
    }
   ],
   "source": [
    "m.get_value()"
   ]
  },
  {
   "cell_type": "code",
   "execution_count": 64,
   "id": "d95e5b90-7bc4-4504-8c5c-e95126f97596",
   "metadata": {},
   "outputs": [],
   "source": [
    "m.set_value(30)"
   ]
  },
  {
   "cell_type": "code",
   "execution_count": 65,
   "id": "f81ae701-1b4e-4199-9c87-a9fc10eaad78",
   "metadata": {},
   "outputs": [
    {
     "data": {
      "text/plain": [
       "30"
      ]
     },
     "execution_count": 65,
     "metadata": {},
     "output_type": "execute_result"
    }
   ],
   "source": [
    "m.get_value()"
   ]
  },
  {
   "cell_type": "code",
   "execution_count": 70,
   "id": "223d285d-a4ce-4543-bdc8-0fc0df77fe25",
   "metadata": {},
   "outputs": [],
   "source": [
    "#Q5\n",
    "#Ans:-Method overriding is a feature of object-oriented programming languages where the subclass or child class can provide the program with specific characteristics or a specific implementation process of data provided that are already defined in the parent class or superclass.\n",
    "#Example\n",
    "# Defining parent class 1 \n",
    "\n",
    "class Parent1(): \n",
    "    def child1(self): \n",
    "        return\"The baby of this parent is a boy\"\n",
    "        \n",
    "class Parent2(): \n",
    "    def child2(self): \n",
    "        return\"The baby of this parent is a boy\"\n",
    "    \n",
    "class Child(Parent1, Parent2): \n",
    "    pass \n",
    "   "
   ]
  },
  {
   "cell_type": "code",
   "execution_count": 71,
   "id": "de8b66eb-5e69-4023-9262-ec9ed44374fe",
   "metadata": {},
   "outputs": [],
   "source": [
    "child = Child() \n"
   ]
  },
  {
   "cell_type": "code",
   "execution_count": 72,
   "id": "8721f7ad-feb3-438e-93bc-5492915e9b3e",
   "metadata": {},
   "outputs": [
    {
     "data": {
      "text/plain": [
       "'The baby of this parent is a boy'"
      ]
     },
     "execution_count": 72,
     "metadata": {},
     "output_type": "execute_result"
    }
   ],
   "source": [
    "child.child1()"
   ]
  },
  {
   "cell_type": "code",
   "execution_count": 73,
   "id": "0b565b62-427d-45ee-ae40-83745fb3e297",
   "metadata": {},
   "outputs": [
    {
     "data": {
      "text/plain": [
       "'The baby of this parent is a boy'"
      ]
     },
     "execution_count": 73,
     "metadata": {},
     "output_type": "execute_result"
    }
   ],
   "source": [
    "child.child2()"
   ]
  },
  {
   "cell_type": "code",
   "execution_count": null,
   "id": "1e7541eb-c834-4d6c-ba4d-688d1eb0d907",
   "metadata": {},
   "outputs": [],
   "source": []
  }
 ],
 "metadata": {
  "kernelspec": {
   "display_name": "Python 3 (ipykernel)",
   "language": "python",
   "name": "python3"
  },
  "language_info": {
   "codemirror_mode": {
    "name": "ipython",
    "version": 3
   },
   "file_extension": ".py",
   "mimetype": "text/x-python",
   "name": "python",
   "nbconvert_exporter": "python",
   "pygments_lexer": "ipython3",
   "version": "3.10.8"
  }
 },
 "nbformat": 4,
 "nbformat_minor": 5
}
